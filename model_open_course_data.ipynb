{
 "cells": [
  {
   "cell_type": "markdown",
   "metadata": {},
   "source": [
    "## Project Goal\n",
    "\n",
    "In this notebook, we will read in json data from OpenCourseAPI.\n",
    "Then we will design a relational model for the data and store in a sqlite database\n",
    "\n",
    "    - remember to run `jupyter nbconvert --to script model_open_course_data.ipynb` to output the notebook into a python script"
   ]
  },
  {
   "cell_type": "code",
   "execution_count": 157,
   "metadata": {},
   "outputs": [],
   "source": [
    "import json\n",
    "import sqlite3\n",
    "from sqlite3 import Error"
   ]
  },
  {
   "cell_type": "markdown",
   "metadata": {},
   "source": [
    "## Get the data\n",
    "- from https://opencourse.dev/fh/classes"
   ]
  },
  {
   "cell_type": "code",
   "execution_count": 158,
   "metadata": {},
   "outputs": [],
   "source": [
    "from pathlib import Path     \n",
    "\n",
    "data_path = Path().absolute() / \"fh-classes.json\" # json data from https://opencourse.dev/fh/classes\n",
    "\n",
    "with data_path.open() as f:\n",
    "    data = json.load(f)"
   ]
  },
  {
   "cell_type": "markdown",
   "metadata": {},
   "source": [
    "### Lets take a look at the structure of the json data: "
   ]
  },
  {
   "cell_type": "code",
   "execution_count": 159,
   "metadata": {},
   "outputs": [
    {
     "data": {
      "text/plain": [
       "{'CRN': 21845,\n",
       " 'raw_course': 'BIOL F040B04V',\n",
       " 'dept': 'BIOL',\n",
       " 'course': '40B',\n",
       " 'section': '04V',\n",
       " 'title': 'Human Anatomy & Physiology II',\n",
       " 'units': 5.0,\n",
       " 'start': '09/21/2020',\n",
       " 'end': '12/11/2020',\n",
       " 'seats': 0,\n",
       " 'wait_seats': 1,\n",
       " 'status': 'waitlist',\n",
       " 'times': [{'days': 'MW',\n",
       "   'start_time': '12:00 PM',\n",
       "   'end_time': '01:50 PM',\n",
       "   'instructor': ['Connie La'],\n",
       "   'location': 'FH ONLINE'},\n",
       "  {'days': 'W',\n",
       "   'start_time': '09:00 AM',\n",
       "   'end_time': '11:50 AM',\n",
       "   'instructor': ['Connie La'],\n",
       "   'location': 'FH ONLINE'}]}"
      ]
     },
     "execution_count": 159,
     "metadata": {},
     "output_type": "execute_result"
    }
   ],
   "source": [
    "data[230]"
   ]
  },
  {
   "cell_type": "markdown",
   "metadata": {},
   "source": [
    "### Let's extract relevant data\n",
    "- CRN\n",
    "- raw_course:  full course name\n",
    "- dept: Abbreviated department\n",
    "- course: course number\n",
    "- section: section number and modality (online/virtual)\n",
    "- title\n",
    "- units\n",
    "- start: start date\n",
    "- end: end date\n",
    "- seats: seats available\n",
    "- wait_seats: waitlist seat available\n",
    "- status: 'waitlist' or 'open'\n",
    "- times: a list of dicts with keys ('days', 'start_time', 'end_time', 'instructor', 'location')"
   ]
  },
  {
   "cell_type": "markdown",
   "metadata": {},
   "source": [
    "## create a connection to a sqlite database"
   ]
  },
  {
   "cell_type": "code",
   "execution_count": 160,
   "metadata": {},
   "outputs": [],
   "source": [
    "def sql_connect(db_path):\n",
    "    try:\n",
    "        conn = sqlite3.connect(db_path)\n",
    "        print(\"Connected to \" + db_path)\n",
    "        return conn\n",
    "    except Error as e:\n",
    "        print(e)"
   ]
  },
  {
   "cell_type": "code",
   "execution_count": 161,
   "metadata": {},
   "outputs": [
    {
     "name": "stdout",
     "output_type": "stream",
     "text": [
      "Connected to /Users/dnghiem/Projects/schedule_analysis/fh-classes.db\n"
     ]
    }
   ],
   "source": [
    "db_path = \"/Users/dnghiem/Projects/schedule_analysis/fh-classes.db\"\n",
    "\n",
    "conn = sql_connect(db_path)\n",
    "cur = conn.cursor()"
   ]
  },
  {
   "cell_type": "code",
   "execution_count": 162,
   "metadata": {},
   "outputs": [
    {
     "name": "stdout",
     "output_type": "stream",
     "text": [
      "[(1,)]\n"
     ]
    }
   ],
   "source": [
    "# Enable foreign key constraint\n",
    "# PRAGMA foreign_keys is 1 if enabled\n",
    "\n",
    "cur.execute(\"PRAGMA foreign_keys = ON\")\n",
    "cur.execute(\"PRAGMA foreign_keys\")\n",
    "result = cur.fetchall()\n",
    "print(result)"
   ]
  },
  {
   "cell_type": "markdown",
   "metadata": {},
   "source": [
    "## Let's Create the tables\n",
    "\n",
    "We will normalize the data by creating several tables:\n",
    "- class : each entry identified by a CRN code\n",
    "- meetings: the day, time, and locationfor each class meeting\n",
    "- instructor class: the instructor name and a class they are teaching"
   ]
  },
  {
   "cell_type": "code",
   "execution_count": 163,
   "metadata": {},
   "outputs": [
    {
     "data": {
      "text/plain": [
       "<sqlite3.Cursor at 0x10fd88c00>"
      ]
     },
     "execution_count": 163,
     "metadata": {},
     "output_type": "execute_result"
    }
   ],
   "source": [
    "table_class =\"\"\"\n",
    "    CREATE TABLE IF NOT EXISTS classes (\n",
    "        crn integer PRIMARY KEY,\n",
    "        dept text,\n",
    "        course text,\n",
    "        section text,\n",
    "        title text,\n",
    "        units real,\n",
    "        start text,\n",
    "        end text,\n",
    "        seats integer,\n",
    "        wait_seats integer,\n",
    "        status text\n",
    "    );\"\"\"\n",
    "\n",
    "cur.execute(\"DROP TABLE IF EXISTS classes\")\n",
    "cur.execute(table_class)"
   ]
  },
  {
   "cell_type": "code",
   "execution_count": 164,
   "metadata": {},
   "outputs": [
    {
     "data": {
      "text/plain": [
       "{'days': 'TBA',\n",
       " 'start_time': 'TBA',\n",
       " 'end_time': 'TBA',\n",
       " 'instructor': ['Robbie Reid'],\n",
       " 'location': 'FH ONLINE',\n",
       " 'CRN': 20161}"
      ]
     },
     "execution_count": 164,
     "metadata": {},
     "output_type": "execute_result"
    }
   ],
   "source": [
    "# Lets inspect the class meetings from data\n",
    "\n",
    "meetings = []\n",
    "\n",
    "for cls in data:\n",
    "    course_id = cls.get('CRN')\n",
    "    for time in cls.get('times', None):\n",
    "        time['CRN'] = course_id\n",
    "        meetings.append(time)\n",
    "            \n",
    "meetings[155]"
   ]
  },
  {
   "cell_type": "code",
   "execution_count": 165,
   "metadata": {},
   "outputs": [
    {
     "data": {
      "text/plain": [
       "<sqlite3.Cursor at 0x10fd88c00>"
      ]
     },
     "execution_count": 165,
     "metadata": {},
     "output_type": "execute_result"
    }
   ],
   "source": [
    "# Since many classes may have \"TBA\" listed as their days and start times, \n",
    "# instead of using a composite key we will create an id for each meeting \n",
    "\n",
    "create_meetings = \"\"\"\n",
    "    CREATE TABLE IF NOT EXISTS meetings (\n",
    "        id INTEGER PRIMARY KEY,\n",
    "        crn integer NOT NULL,\n",
    "        days text,\n",
    "        start_time text,\n",
    "        end_time text,\n",
    "        location text,\n",
    "        FOREIGN KEY (crn)\n",
    "            REFERENCES classes (crn)\n",
    "        )\"\"\"\n",
    "\n",
    "cur.execute(\"DROP TABLE IF EXISTS meetings\")\n",
    "cur.execute(create_meetings)"
   ]
  },
  {
   "cell_type": "code",
   "execution_count": 166,
   "metadata": {},
   "outputs": [
    {
     "data": {
      "text/plain": [
       "<sqlite3.Cursor at 0x10fd88c00>"
      ]
     },
     "execution_count": 166,
     "metadata": {},
     "output_type": "execute_result"
    }
   ],
   "source": [
    "create_instructor_class = \"\"\"\n",
    "    CREATE TABLE IF NOT EXISTS instructor_class (\n",
    "        name text,\n",
    "        crn integer,\n",
    "        PRIMARY KEY (name, crn),\n",
    "        FOREIGN KEY (crn)\n",
    "            REFERENCES classes (crn)\n",
    "        )\"\"\"\n",
    "\n",
    "cur.execute(\"DROP TABLE IF EXISTS instructor_class\")\n",
    "cur.execute(create_instructor_class)"
   ]
  },
  {
   "cell_type": "code",
   "execution_count": 167,
   "metadata": {},
   "outputs": [
    {
     "name": "stdout",
     "output_type": "stream",
     "text": [
      "[('classes',), ('meetings',), ('instructor_class',)]\n"
     ]
    }
   ],
   "source": [
    "# Check that the table is there\n",
    "\n",
    "cur.execute(\"SELECT name FROM sqlite_master WHERE type='table'\")\n",
    "\n",
    "print(cur.fetchall())"
   ]
  },
  {
   "cell_type": "markdown",
   "metadata": {},
   "source": [
    "## Let's insert into the class table"
   ]
  },
  {
   "cell_type": "code",
   "execution_count": 168,
   "metadata": {},
   "outputs": [
    {
     "data": {
      "text/plain": [
       "{'CRN': 22033,\n",
       " 'raw_course': 'ALCB F431Y04V',\n",
       " 'dept': 'ALCB',\n",
       " 'course': '431Y',\n",
       " 'section': '04V',\n",
       " 'title': 'Analysis of Current Events',\n",
       " 'units': 0.0,\n",
       " 'start': '09/21/2020',\n",
       " 'end': '12/11/2020',\n",
       " 'seats': 11,\n",
       " 'wait_seats': 0,\n",
       " 'status': 'open',\n",
       " 'times': [{'days': 'Th',\n",
       "   'start_time': '01:00 PM',\n",
       "   'end_time': '02:50 PM',\n",
       "   'instructor': ['Diane C Smith'],\n",
       "   'location': 'FO ONLINE',\n",
       "   'CRN': 22033}]}"
      ]
     },
     "execution_count": 168,
     "metadata": {},
     "output_type": "execute_result"
    }
   ],
   "source": [
    "cls = data[89]\n",
    "cls "
   ]
  },
  {
   "cell_type": "code",
   "execution_count": 169,
   "metadata": {},
   "outputs": [],
   "source": [
    "# Insert into the classes table using named parameters from data\n",
    "\n",
    "insert_classes =\"\"\"\n",
    "    INSERT INTO classes VALUES (\n",
    "        :CRN,\n",
    "        :dept,\n",
    "        :course,\n",
    "        :section,\n",
    "        :title,\n",
    "        :units,\n",
    "        :start,\n",
    "        :end,\n",
    "        :seats,\n",
    "        :wait_seats,\n",
    "        :status\n",
    "        )\"\"\"\n",
    "\n",
    "for cls in data:\n",
    "    cur.execute(insert_classes, cls)"
   ]
  },
  {
   "cell_type": "code",
   "execution_count": 170,
   "metadata": {},
   "outputs": [
    {
     "data": {
      "text/plain": [
       "{'CRN': 22033,\n",
       " 'raw_course': 'ALCB F431Y04V',\n",
       " 'dept': 'ALCB',\n",
       " 'course': '431Y',\n",
       " 'section': '04V',\n",
       " 'title': 'Analysis of Current Events',\n",
       " 'units': 0.0,\n",
       " 'start': '09/21/2020',\n",
       " 'end': '12/11/2020',\n",
       " 'seats': 11,\n",
       " 'wait_seats': 0,\n",
       " 'status': 'open',\n",
       " 'times': [{'days': 'Th',\n",
       "   'start_time': '01:00 PM',\n",
       "   'end_time': '02:50 PM',\n",
       "   'instructor': ['Diane C Smith'],\n",
       "   'location': 'FO ONLINE',\n",
       "   'CRN': 22033}]}"
      ]
     },
     "execution_count": 170,
     "metadata": {},
     "output_type": "execute_result"
    }
   ],
   "source": [
    "cls = data[89]\n",
    "cls"
   ]
  },
  {
   "cell_type": "code",
   "execution_count": 171,
   "metadata": {},
   "outputs": [
    {
     "name": "stdout",
     "output_type": "stream",
     "text": [
      "{'W', '1', 'T', '3', '4', 'Z', 'Y', 'D', '0', '2'}\n"
     ]
    },
    {
     "data": {
      "text/plain": [
       "['ACTG F070R01',\n",
       " 'ACTG F071R01',\n",
       " 'ACTG F072R01',\n",
       " 'ACTG F073R01',\n",
       " 'ANTH F070R01']"
      ]
     },
     "execution_count": 171,
     "metadata": {},
     "output_type": "execute_result"
    }
   ],
   "source": [
    "# Debug: Which classes have the same instructor appear multiple times in the meetings of the class?\n",
    "multiples = dict()\n",
    "\n",
    "for cls in data:\n",
    "    crn = cls['CRN']\n",
    "    \n",
    "    if len(cls['times']) > 1:\n",
    "        multiples[crn] = cls['times']\n",
    "\n",
    "# Debug: Which classes have a suffix that indicates fully online or hybrid?\n",
    "\n",
    "classes = dict()\n",
    "\n",
    "for cls in data:\n",
    "    raw = cls['raw_course']\n",
    "    suffix = raw[-1]\n",
    "    \n",
    "    times = cls['times']\n",
    "    \n",
    "    has_tba = False\n",
    "    \n",
    "    for time in times:\n",
    "        if time['start_time'] == 'TBA':\n",
    "            has_tba = True\n",
    "    if has_tba:\n",
    "        classes[raw] = times\n",
    "        \n",
    "suffixes = set()\n",
    "for cls in classes.keys():\n",
    "    suffixes.add(cls[-1])\n",
    "\n",
    "print(suffixes)\n",
    "\n",
    "\n",
    "# Which classes have 'TBA' for all of their start times?\n",
    "# Nearly all the classes that have all 'TBA' start times are classes with 'W' at the end of the section name\n",
    "# \n",
    "all_tba = [] # list of classes with all 'TBA' start times\n",
    "\n",
    "for cls in data:\n",
    "    raw = cls['raw_course']\n",
    "    \n",
    "    has_tba = [time['start_time']=='TBA' for time in cls['times']]\n",
    "    if all(has_tba):\n",
    "       all_tba.append(raw) \n",
    "\n",
    "all_tba_no_W = [name for name in all_tba if name[-1] != 'W']\n",
    "\n",
    "all_tba_no_W[:5]\n",
    "\n",
    "        "
   ]
  },
  {
   "cell_type": "code",
   "execution_count": 172,
   "metadata": {},
   "outputs": [
    {
     "data": {
      "text/plain": [
       "[('Joe L Mayer', 20238),\n",
       " ('Lisa Ann Drake', 20001),\n",
       " ('Paul Henry Ponleithner', 20574),\n",
       " ('Sara Seyedin', 20002),\n",
       " ('Sara Seyedin', 20003)]"
      ]
     },
     "execution_count": 172,
     "metadata": {},
     "output_type": "execute_result"
    }
   ],
   "source": [
    "# Insert into the instructor_class table\n",
    "\n",
    "for cls in data:\n",
    "    crn = cls['CRN']\n",
    "    \n",
    "    instructors = set()\n",
    "    \n",
    "    # execute one insert statement for each instructor of the class\n",
    "    for time in cls['times']:\n",
    "        for name in time['instructor']:\n",
    "            instructors.add(name)\n",
    "    for name in instructors:\n",
    "        cur.execute(\"INSERT INTO instructor_class VALUES (?, ?)\", (name, crn))\n",
    "        \n",
    "cur.execute(\"SELECT * FROM instructor_class LIMIT 5\")\n",
    "result = cur.fetchall()\n",
    "result"
   ]
  },
  {
   "cell_type": "markdown",
   "metadata": {},
   "source": [
    "## Insert into Meetings"
   ]
  },
  {
   "cell_type": "code",
   "execution_count": 173,
   "metadata": {},
   "outputs": [
    {
     "data": {
      "text/plain": [
       "[(1, 20238, 'TBA', 'TBA', 'TBA', 'FC ONLINE'),\n",
       " (2, 20001, 'TBA', 'TBA', 'TBA', 'FC ONLINE'),\n",
       " (3, 20574, 'TBA', 'TBA', 'TBA', 'FC ONLINE'),\n",
       " (4, 20002, 'TBA', 'TBA', 'TBA', 'FC ONLINE'),\n",
       " (5, 20003, 'TBA', 'TBA', 'TBA', 'FC ONLINE')]"
      ]
     },
     "execution_count": 173,
     "metadata": {},
     "output_type": "execute_result"
    }
   ],
   "source": [
    "# Insert into the meetings table\n",
    "\n",
    "# TODO:  Many of the class meetings 'TBA' in the start and end times because they are fully online classes.\n",
    "#        The scraper needs to return a value that indicates a class in online and has no in person meetings\n",
    "\n",
    "for cls in data:\n",
    "    crn = cls['CRN']\n",
    "     \n",
    "    for time in cls['times']:\n",
    "        days = time.get('days').replace('Th', 'H')  \n",
    "        cur.execute(\"INSERT INTO meetings VALUES (null, ?, ?, ?, ?, ?)\", (crn, days, time['start_time'], time['end_time'], time['location']))\n",
    "     \n",
    "cur.execute(\"SELECT * from meetings LIMIT 5\")\n",
    "result = cur.fetchall()\n",
    "result"
   ]
  },
  {
   "cell_type": "markdown",
   "metadata": {},
   "source": [
    "## Example SQL queries"
   ]
  },
  {
   "cell_type": "code",
   "execution_count": 174,
   "metadata": {},
   "outputs": [
    {
     "name": "stdout",
     "output_type": "stream",
     "text": [
      "1\n",
      "[(933, 20769, 'TH', '01:30 PM', '03:45 PM', 'FH ONLINE', 'Daniel Nghiem', 20769, 20769, 'MATH', '1B', '03V', 'Calculus', 5.0, '09/21/2020', '12/11/2020', 0, 8, 'waitlist')]\n"
     ]
    }
   ],
   "source": [
    "query =\"\"\"\n",
    "    SELECT * FROM meetings\n",
    "    INNER JOIN (\n",
    "        SELECT *\n",
    "        FROM instructor_class\n",
    "        INNER JOIN classes\n",
    "        ON instructor_class.crn = classes.crn\n",
    "        WHERE instructor_class.name = 'Daniel Nghiem'\n",
    "    ) AS B\n",
    "    ON meetings.crn = B.crn\n",
    "    \"\"\"\n",
    "\n",
    "cur.execute(query)\n",
    "result = cur.fetchall()\n",
    "print(len(result))\n",
    "print(result)"
   ]
  },
  {
   "cell_type": "markdown",
   "metadata": {},
   "source": [
    "# TO DO\n",
    "- Ideas?\n"
   ]
  },
  {
   "cell_type": "markdown",
   "metadata": {},
   "source": [
    "## Analysis in pandas\n",
    "\n",
    "- we can use `pandas.read_sql` to read sql-style queries"
   ]
  },
  {
   "cell_type": "code",
   "execution_count": 175,
   "metadata": {},
   "outputs": [
    {
     "data": {
      "text/html": [
       "<div>\n",
       "<style scoped>\n",
       "    .dataframe tbody tr th:only-of-type {\n",
       "        vertical-align: middle;\n",
       "    }\n",
       "\n",
       "    .dataframe tbody tr th {\n",
       "        vertical-align: top;\n",
       "    }\n",
       "\n",
       "    .dataframe thead th {\n",
       "        text-align: right;\n",
       "    }\n",
       "</style>\n",
       "<table border=\"1\" class=\"dataframe\">\n",
       "  <thead>\n",
       "    <tr style=\"text-align: right;\">\n",
       "      <th></th>\n",
       "      <th>crn</th>\n",
       "      <th>dept</th>\n",
       "      <th>course</th>\n",
       "      <th>section</th>\n",
       "      <th>title</th>\n",
       "      <th>units</th>\n",
       "      <th>start</th>\n",
       "      <th>end</th>\n",
       "      <th>seats</th>\n",
       "      <th>wait_seats</th>\n",
       "      <th>status</th>\n",
       "    </tr>\n",
       "  </thead>\n",
       "  <tbody>\n",
       "    <tr>\n",
       "      <th>0</th>\n",
       "      <td>20001</td>\n",
       "      <td>ACTG</td>\n",
       "      <td>1A</td>\n",
       "      <td>02W</td>\n",
       "      <td>Financial Accounting I</td>\n",
       "      <td>5.0</td>\n",
       "      <td>09/21/2020</td>\n",
       "      <td>12/11/2020</td>\n",
       "      <td>0</td>\n",
       "      <td>15</td>\n",
       "      <td>waitlist</td>\n",
       "    </tr>\n",
       "    <tr>\n",
       "      <th>1</th>\n",
       "      <td>20002</td>\n",
       "      <td>ACTG</td>\n",
       "      <td>1A</td>\n",
       "      <td>04W</td>\n",
       "      <td>Financial Accounting I</td>\n",
       "      <td>5.0</td>\n",
       "      <td>09/21/2020</td>\n",
       "      <td>12/11/2020</td>\n",
       "      <td>8</td>\n",
       "      <td>20</td>\n",
       "      <td>open</td>\n",
       "    </tr>\n",
       "    <tr>\n",
       "      <th>2</th>\n",
       "      <td>20003</td>\n",
       "      <td>ACTG</td>\n",
       "      <td>1A</td>\n",
       "      <td>05W</td>\n",
       "      <td>Financial Accounting I</td>\n",
       "      <td>5.0</td>\n",
       "      <td>09/21/2020</td>\n",
       "      <td>12/11/2020</td>\n",
       "      <td>8</td>\n",
       "      <td>20</td>\n",
       "      <td>open</td>\n",
       "    </tr>\n",
       "    <tr>\n",
       "      <th>3</th>\n",
       "      <td>20005</td>\n",
       "      <td>ACTG</td>\n",
       "      <td>1C</td>\n",
       "      <td>02W</td>\n",
       "      <td>Managerial Accounting</td>\n",
       "      <td>5.0</td>\n",
       "      <td>09/21/2020</td>\n",
       "      <td>12/11/2020</td>\n",
       "      <td>0</td>\n",
       "      <td>14</td>\n",
       "      <td>waitlist</td>\n",
       "    </tr>\n",
       "    <tr>\n",
       "      <th>4</th>\n",
       "      <td>20006</td>\n",
       "      <td>ACTG</td>\n",
       "      <td>60</td>\n",
       "      <td>01W</td>\n",
       "      <td>Accounting for Small Business</td>\n",
       "      <td>5.0</td>\n",
       "      <td>09/21/2020</td>\n",
       "      <td>12/11/2020</td>\n",
       "      <td>1</td>\n",
       "      <td>10</td>\n",
       "      <td>open</td>\n",
       "    </tr>\n",
       "  </tbody>\n",
       "</table>\n",
       "</div>"
      ],
      "text/plain": [
       "     crn  dept course section                          title  units  \\\n",
       "0  20001  ACTG     1A     02W         Financial Accounting I    5.0   \n",
       "1  20002  ACTG     1A     04W         Financial Accounting I    5.0   \n",
       "2  20003  ACTG     1A     05W         Financial Accounting I    5.0   \n",
       "3  20005  ACTG     1C     02W          Managerial Accounting    5.0   \n",
       "4  20006  ACTG     60     01W  Accounting for Small Business    5.0   \n",
       "\n",
       "        start         end  seats  wait_seats    status  \n",
       "0  09/21/2020  12/11/2020      0          15  waitlist  \n",
       "1  09/21/2020  12/11/2020      8          20      open  \n",
       "2  09/21/2020  12/11/2020      8          20      open  \n",
       "3  09/21/2020  12/11/2020      0          14  waitlist  \n",
       "4  09/21/2020  12/11/2020      1          10      open  "
      ]
     },
     "execution_count": 175,
     "metadata": {},
     "output_type": "execute_result"
    }
   ],
   "source": [
    "import pandas as pd\n",
    "\n",
    "df_classes = pd.read_sql(\"SELECT * FROM classes\", conn)\n",
    "\n",
    "df_classes.head()"
   ]
  },
  {
   "cell_type": "code",
   "execution_count": 176,
   "metadata": {},
   "outputs": [
    {
     "data": {
      "text/html": [
       "<div>\n",
       "<style scoped>\n",
       "    .dataframe tbody tr th:only-of-type {\n",
       "        vertical-align: middle;\n",
       "    }\n",
       "\n",
       "    .dataframe tbody tr th {\n",
       "        vertical-align: top;\n",
       "    }\n",
       "\n",
       "    .dataframe thead th {\n",
       "        text-align: right;\n",
       "    }\n",
       "</style>\n",
       "<table border=\"1\" class=\"dataframe\">\n",
       "  <thead>\n",
       "    <tr style=\"text-align: right;\">\n",
       "      <th></th>\n",
       "      <th>id</th>\n",
       "      <th>crn</th>\n",
       "      <th>days</th>\n",
       "      <th>start_time</th>\n",
       "      <th>end_time</th>\n",
       "      <th>location</th>\n",
       "    </tr>\n",
       "  </thead>\n",
       "  <tbody>\n",
       "    <tr>\n",
       "      <th>0</th>\n",
       "      <td>1</td>\n",
       "      <td>20238</td>\n",
       "      <td>TBA</td>\n",
       "      <td>TBA</td>\n",
       "      <td>TBA</td>\n",
       "      <td>FC ONLINE</td>\n",
       "    </tr>\n",
       "    <tr>\n",
       "      <th>1</th>\n",
       "      <td>2</td>\n",
       "      <td>20001</td>\n",
       "      <td>TBA</td>\n",
       "      <td>TBA</td>\n",
       "      <td>TBA</td>\n",
       "      <td>FC ONLINE</td>\n",
       "    </tr>\n",
       "    <tr>\n",
       "      <th>2</th>\n",
       "      <td>3</td>\n",
       "      <td>20574</td>\n",
       "      <td>TBA</td>\n",
       "      <td>TBA</td>\n",
       "      <td>TBA</td>\n",
       "      <td>FC ONLINE</td>\n",
       "    </tr>\n",
       "    <tr>\n",
       "      <th>3</th>\n",
       "      <td>4</td>\n",
       "      <td>20002</td>\n",
       "      <td>TBA</td>\n",
       "      <td>TBA</td>\n",
       "      <td>TBA</td>\n",
       "      <td>FC ONLINE</td>\n",
       "    </tr>\n",
       "    <tr>\n",
       "      <th>4</th>\n",
       "      <td>5</td>\n",
       "      <td>20003</td>\n",
       "      <td>TBA</td>\n",
       "      <td>TBA</td>\n",
       "      <td>TBA</td>\n",
       "      <td>FC ONLINE</td>\n",
       "    </tr>\n",
       "  </tbody>\n",
       "</table>\n",
       "</div>"
      ],
      "text/plain": [
       "   id    crn days start_time end_time   location\n",
       "0   1  20238  TBA        TBA      TBA  FC ONLINE\n",
       "1   2  20001  TBA        TBA      TBA  FC ONLINE\n",
       "2   3  20574  TBA        TBA      TBA  FC ONLINE\n",
       "3   4  20002  TBA        TBA      TBA  FC ONLINE\n",
       "4   5  20003  TBA        TBA      TBA  FC ONLINE"
      ]
     },
     "execution_count": 176,
     "metadata": {},
     "output_type": "execute_result"
    }
   ],
   "source": [
    "df_meetings = pd.read_sql(\"SELECT * FROM meetings\", conn)\n",
    "\n",
    "df_meetings.head()"
   ]
  },
  {
   "cell_type": "code",
   "execution_count": 177,
   "metadata": {},
   "outputs": [],
   "source": [
    "conn.close()"
   ]
  },
  {
   "cell_type": "code",
   "execution_count": null,
   "metadata": {},
   "outputs": [],
   "source": []
  }
 ],
 "metadata": {
  "kernelspec": {
   "display_name": "dataquest",
   "language": "python",
   "name": "dataquest"
  },
  "language_info": {
   "codemirror_mode": {
    "name": "ipython",
    "version": 3
   },
   "file_extension": ".py",
   "mimetype": "text/x-python",
   "name": "python",
   "nbconvert_exporter": "python",
   "pygments_lexer": "ipython3",
   "version": "3.7.3"
  }
 },
 "nbformat": 4,
 "nbformat_minor": 4
}
